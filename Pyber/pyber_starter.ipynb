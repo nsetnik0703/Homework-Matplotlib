{
 "cells": [
  {
   "cell_type": "code",
   "execution_count": 31,
   "metadata": {},
   "outputs": [
    {
     "data": {
      "text/html": [
       "<div>\n",
       "<style scoped>\n",
       "    .dataframe tbody tr th:only-of-type {\n",
       "        vertical-align: middle;\n",
       "    }\n",
       "\n",
       "    .dataframe tbody tr th {\n",
       "        vertical-align: top;\n",
       "    }\n",
       "\n",
       "    .dataframe thead th {\n",
       "        text-align: right;\n",
       "    }\n",
       "</style>\n",
       "<table border=\"1\" class=\"dataframe\">\n",
       "  <thead>\n",
       "    <tr style=\"text-align: right;\">\n",
       "      <th></th>\n",
       "      <th>city</th>\n",
       "      <th>driver_count</th>\n",
       "      <th>type</th>\n",
       "      <th>date</th>\n",
       "      <th>fare</th>\n",
       "      <th>ride_id</th>\n",
       "    </tr>\n",
       "  </thead>\n",
       "  <tbody>\n",
       "    <tr>\n",
       "      <th>0</th>\n",
       "      <td>Richardfort</td>\n",
       "      <td>38</td>\n",
       "      <td>Urban</td>\n",
       "      <td>2018-02-24 08:40:38</td>\n",
       "      <td>13.93</td>\n",
       "      <td>5628545007794</td>\n",
       "    </tr>\n",
       "    <tr>\n",
       "      <th>1</th>\n",
       "      <td>Richardfort</td>\n",
       "      <td>38</td>\n",
       "      <td>Urban</td>\n",
       "      <td>2018-02-13 12:46:07</td>\n",
       "      <td>14.00</td>\n",
       "      <td>910050116494</td>\n",
       "    </tr>\n",
       "    <tr>\n",
       "      <th>2</th>\n",
       "      <td>Richardfort</td>\n",
       "      <td>38</td>\n",
       "      <td>Urban</td>\n",
       "      <td>2018-02-16 13:52:19</td>\n",
       "      <td>17.92</td>\n",
       "      <td>820639054416</td>\n",
       "    </tr>\n",
       "    <tr>\n",
       "      <th>3</th>\n",
       "      <td>Richardfort</td>\n",
       "      <td>38</td>\n",
       "      <td>Urban</td>\n",
       "      <td>2018-02-01 20:18:28</td>\n",
       "      <td>10.26</td>\n",
       "      <td>9554935945413</td>\n",
       "    </tr>\n",
       "    <tr>\n",
       "      <th>4</th>\n",
       "      <td>Richardfort</td>\n",
       "      <td>38</td>\n",
       "      <td>Urban</td>\n",
       "      <td>2018-04-17 02:26:37</td>\n",
       "      <td>23.00</td>\n",
       "      <td>720020655850</td>\n",
       "    </tr>\n",
       "  </tbody>\n",
       "</table>\n",
       "</div>"
      ],
      "text/plain": [
       "          city  driver_count   type                 date   fare        ride_id\n",
       "0  Richardfort            38  Urban  2018-02-24 08:40:38  13.93  5628545007794\n",
       "1  Richardfort            38  Urban  2018-02-13 12:46:07  14.00   910050116494\n",
       "2  Richardfort            38  Urban  2018-02-16 13:52:19  17.92   820639054416\n",
       "3  Richardfort            38  Urban  2018-02-01 20:18:28  10.26  9554935945413\n",
       "4  Richardfort            38  Urban  2018-04-17 02:26:37  23.00   720020655850"
      ]
     },
     "execution_count": 31,
     "metadata": {},
     "output_type": "execute_result"
    }
   ],
   "source": [
    "%matplotlib inline\n",
    "# Dependencies and Setup\n",
    "import matplotlib.pyplot as plt\n",
    "import pandas as pd\n",
    "import numpy as np\n",
    "\n",
    "# File to Load (Remember to change these)\n",
    "city_df = pd.read_csv(\"Resources/city_data.csv\")\n",
    "ride_df = pd.read_csv(\"Resources/ride_data.csv\")\n",
    "# Read the City and Ride Data\n",
    "#city_df.head()\n",
    "# Combine the data into a single dataset\n",
    "cityride_df = city_df.merge(ride_df)\n",
    "# Display the data table for preview\n",
    "cityride_df.head()"
   ]
  },
  {
   "cell_type": "code",
   "execution_count": 2,
   "metadata": {
    "scrolled": true
   },
   "outputs": [
    {
     "data": {
      "text/plain": [
       "Urban       1625\n",
       "Suburban     625\n",
       "Rural        125\n",
       "Name: type, dtype: int64"
      ]
     },
     "execution_count": 2,
     "metadata": {},
     "output_type": "execute_result"
    }
   ],
   "source": [
    " cityride_df[\"type\"].value_counts()"
   ]
  },
  {
   "cell_type": "markdown",
   "metadata": {},
   "source": [
    "## Bubble Plot of Ride Sharing Data"
   ]
  },
  {
   "cell_type": "code",
   "execution_count": 53,
   "metadata": {},
   "outputs": [
    {
     "name": "stdout",
     "output_type": "stream",
     "text": [
      "0       Urban\n",
      "1       Urban\n",
      "2       Urban\n",
      "3       Urban\n",
      "4       Urban\n",
      "5       Urban\n",
      "6       Urban\n",
      "7       Urban\n",
      "8       Urban\n",
      "9       Urban\n",
      "10      Urban\n",
      "11      Urban\n",
      "12      Urban\n",
      "13      Urban\n",
      "14      Urban\n",
      "15      Urban\n",
      "16      Urban\n",
      "17      Urban\n",
      "18      Urban\n",
      "19      Urban\n",
      "20      Urban\n",
      "21      Urban\n",
      "22      Urban\n",
      "23      Urban\n",
      "24      Urban\n",
      "25      Urban\n",
      "26      Urban\n",
      "27      Urban\n",
      "28      Urban\n",
      "29      Urban\n",
      "        ...  \n",
      "2345    Rural\n",
      "2346    Rural\n",
      "2347    Rural\n",
      "2348    Rural\n",
      "2349    Rural\n",
      "2350    Rural\n",
      "2351    Rural\n",
      "2352    Rural\n",
      "2353    Rural\n",
      "2354    Rural\n",
      "2355    Rural\n",
      "2356    Rural\n",
      "2357    Rural\n",
      "2358    Rural\n",
      "2359    Rural\n",
      "2360    Rural\n",
      "2361    Rural\n",
      "2362    Rural\n",
      "2363    Rural\n",
      "2364    Rural\n",
      "2365    Rural\n",
      "2366    Rural\n",
      "2367    Rural\n",
      "2368    Rural\n",
      "2369    Rural\n",
      "2370    Rural\n",
      "2371    Rural\n",
      "2372    Rural\n",
      "2373    Rural\n",
      "2374    Rural\n",
      "Name: type, Length: 2375, dtype: object\n",
      "0       13.93\n",
      "1       14.00\n",
      "2       17.92\n",
      "3       10.26\n",
      "4       23.00\n",
      "5        9.54\n",
      "6       29.04\n",
      "7       16.55\n",
      "8       40.77\n",
      "9       27.11\n",
      "10      39.74\n",
      "11      43.92\n",
      "12      14.83\n",
      "13       7.75\n",
      "14      44.11\n",
      "15      30.31\n",
      "16      11.42\n",
      "17      25.81\n",
      "18       8.28\n",
      "19      42.22\n",
      "20      16.35\n",
      "21       4.85\n",
      "22      43.01\n",
      "23      10.91\n",
      "24      21.39\n",
      "25      16.35\n",
      "26       5.32\n",
      "27      37.76\n",
      "28      19.62\n",
      "29      35.58\n",
      "        ...  \n",
      "2345    57.51\n",
      "2346    19.89\n",
      "2347    34.32\n",
      "2348    55.19\n",
      "2349    49.70\n",
      "2350    37.05\n",
      "2351    19.07\n",
      "2352    56.78\n",
      "2353    51.39\n",
      "2354    42.68\n",
      "2355    42.97\n",
      "2356    45.70\n",
      "2357    50.81\n",
      "2358    50.98\n",
      "2359    26.53\n",
      "2360    43.22\n",
      "2361    58.55\n",
      "2362    25.78\n",
      "2363    10.37\n",
      "2364    10.79\n",
      "2365    43.69\n",
      "2366    18.05\n",
      "2367    39.89\n",
      "2368    33.72\n",
      "2369    22.44\n",
      "2370    58.29\n",
      "2371    44.29\n",
      "2372    31.25\n",
      "2373    11.87\n",
      "2374    57.23\n",
      "Name: fare, Length: 2375, dtype: float64\n",
      "2375\n"
     ]
    },
    {
     "data": {
      "text/plain": [
       "[]"
      ]
     },
     "execution_count": 53,
     "metadata": {},
     "output_type": "execute_result"
    },
    {
     "data": {
      "image/png": "[encoded data removed]",
      "text/plain": [
       "<Figure size 432x288 with 1 Axes>"
      ]
     },
     "metadata": {
      "needs_background": "light"
     },
     "output_type": "display_data"
    }
   ],
   "source": [
    "# Obtain the x and y coordinates for each of the three city types\n",
    "x = cityride_df[\"type\"]\n",
    "print(x)\n",
    "y = cityride_df[\"fare\"] \n",
    "print(y)\n",
    "s = len(cityride_df[\"type\"])\n",
    "print(s)\n",
    "\n",
    "# Build the scatter plots for each city types\n",
    "plt.plot(type=\"bubble\",x = x, y = y, s = s)\n",
    "\n",
    "# Incorporate the other graph properties\n",
    "# plt.\"\"\n",
    "# plt.title()\n",
    "# plt.xlabel()\n",
    "# plt.ylabel()\n",
    "# plt.grid()\n",
    "\n",
    "\n",
    "# Create a legend\n",
    "# plt.legend(handles=[], loc=\"best\")\n",
    "\n",
    "\n",
    "# Incorporate a text label regarding circle size\n",
    "\n",
    "# Save Figure\n",
    "# plt.savefig(\"bubbleplot.png\")"
   ]
  },
  {
   "cell_type": "markdown",
   "metadata": {},
   "source": [
    "## Total Fares by City Type"
   ]
  },
  {
   "cell_type": "code",
   "execution_count": 56,
   "metadata": {},
   "outputs": [
    {
     "data": {
      "text/plain": [
       "<matplotlib.legend.Legend at 0x109c0728c88>"
      ]
     },
     "execution_count": 56,
     "metadata": {},
     "output_type": "execute_result"
    },
    {
     "data": {
      "image/png": "[encoded data removed]",
      "text/plain": [
       "<Figure size 432x288 with 1 Axes>"
      ]
     },
     "metadata": {},
     "output_type": "display_data"
    }
   ],
   "source": [
    "urbanfare = cityride_df[\"fare\"][cityride_df[\"type\"] == \"Urban\"].sum()\n",
    "subfare = cityride_df[\"fare\"][cityride_df[\"type\"] == \"Suburban\"].sum()\n",
    "ruralfare = cityride_df[\"fare\"][cityride_df[\"type\"] == \"Rural\"].sum()\n",
    "\n",
    "wedges = [urbanfare,subfare,ruralfare]\n",
    "colors = [\"lightskyblue\",\"lightcoral\",\"gold\"]\n",
    "labels = [\"Urban\",\"Suburban\",\"Rural\"]\n",
    "explode = [0.03,0.05,0.05]\n",
    "\n",
    "plt.pie(wedges,\n",
    "        labels = labels,\n",
    "        colors = colors,\n",
    "        autopct = '%1.1f%%',\n",
    "       explode = explode,\n",
    "       shadow = True,\n",
    "       startangle = 44)\n",
    "plt.title(\"Total Fares by City Type\")\n",
    "plt.legend(loc=\"best\")"
   ]
  },
  {
   "cell_type": "markdown",
   "metadata": {},
   "source": [
    "## Total Rides by City Type"
   ]
  },
  {
   "cell_type": "code",
   "execution_count": 59,
   "metadata": {},
   "outputs": [
    {
     "data": {
      "text/plain": [
       "<matplotlib.legend.Legend at 0x109c0360748>"
      ]
     },
     "execution_count": 59,
     "metadata": {},
     "output_type": "execute_result"
    },
    {
     "data": {
      "image/png": "[encoded data removed]",
      "text/plain": [
       "<Figure size 432x288 with 1 Axes>"
      ]
     },
     "metadata": {},
     "output_type": "display_data"
    }
   ],
   "source": [
    "colors = [\"lightskyblue\",\"lightcoral\",\"gold\"]\n",
    "labels = [\"Urban\",\"Suburban\",\"Rural\"]\n",
    "explode = [0.03,0.05,0.05]\n",
    "\n",
    "plt.pie(cityride_df[\"type\"].value_counts(),\n",
    "        labels = labels,\n",
    "        colors = colors,\n",
    "        autopct = '%1.1f%%',\n",
    "       explode = explode,\n",
    "       shadow = True,\n",
    "       startangle = 24)\n",
    "plt.title(\"Total Rides by City Type\")\n",
    "plt.legend(loc=\"best\")"
   ]
  },
  {
   "cell_type": "markdown",
   "metadata": {},
   "source": [
    "## Total Drivers by City Type"
   ]
  },
  {
   "cell_type": "code",
   "execution_count": 6,
   "metadata": {},
   "outputs": [
    {
     "data": {
      "text/html": [
       "<div>\n",
       "<style scoped>\n",
       "    .dataframe tbody tr th:only-of-type {\n",
       "        vertical-align: middle;\n",
       "    }\n",
       "\n",
       "    .dataframe tbody tr th {\n",
       "        vertical-align: top;\n",
       "    }\n",
       "\n",
       "    .dataframe thead th {\n",
       "        text-align: right;\n",
       "    }\n",
       "</style>\n",
       "<table border=\"1\" class=\"dataframe\">\n",
       "  <thead>\n",
       "    <tr style=\"text-align: right;\">\n",
       "      <th></th>\n",
       "      <th>city</th>\n",
       "      <th>type</th>\n",
       "      <th>driver_count</th>\n",
       "      <th>fare</th>\n",
       "      <th>ride_id</th>\n",
       "    </tr>\n",
       "  </thead>\n",
       "  <tbody>\n",
       "    <tr>\n",
       "      <th>0</th>\n",
       "      <td>Amandaburgh</td>\n",
       "      <td>Urban</td>\n",
       "      <td>12.0</td>\n",
       "      <td>24.641667</td>\n",
       "      <td>5.359336e+12</td>\n",
       "    </tr>\n",
       "    <tr>\n",
       "      <th>1</th>\n",
       "      <td>Barajasview</td>\n",
       "      <td>Urban</td>\n",
       "      <td>26.0</td>\n",
       "      <td>25.332273</td>\n",
       "      <td>4.676968e+12</td>\n",
       "    </tr>\n",
       "    <tr>\n",
       "      <th>2</th>\n",
       "      <td>Barronchester</td>\n",
       "      <td>Suburban</td>\n",
       "      <td>11.0</td>\n",
       "      <td>36.422500</td>\n",
       "      <td>4.460796e+12</td>\n",
       "    </tr>\n",
       "    <tr>\n",
       "      <th>3</th>\n",
       "      <td>Bethanyland</td>\n",
       "      <td>Suburban</td>\n",
       "      <td>22.0</td>\n",
       "      <td>32.956111</td>\n",
       "      <td>5.842550e+12</td>\n",
       "    </tr>\n",
       "    <tr>\n",
       "      <th>4</th>\n",
       "      <td>Bradshawfurt</td>\n",
       "      <td>Rural</td>\n",
       "      <td>7.0</td>\n",
       "      <td>40.064000</td>\n",
       "      <td>3.735294e+12</td>\n",
       "    </tr>\n",
       "  </tbody>\n",
       "</table>\n",
       "</div>"
      ],
      "text/plain": [
       "            city      type  driver_count       fare       ride_id\n",
       "0    Amandaburgh     Urban          12.0  24.641667  5.359336e+12\n",
       "1    Barajasview     Urban          26.0  25.332273  4.676968e+12\n",
       "2  Barronchester  Suburban          11.0  36.422500  4.460796e+12\n",
       "3    Bethanyland  Suburban          22.0  32.956111  5.842550e+12\n",
       "4   Bradshawfurt     Rural           7.0  40.064000  3.735294e+12"
      ]
     },
     "execution_count": 6,
     "metadata": {},
     "output_type": "execute_result"
    }
   ],
   "source": [
    "cityname = cityride_df.groupby([\"city\",\"type\"]).mean()\n",
    "cityname = cityname.reset_index()\n",
    "cityname.head()"
   ]
  },
  {
   "cell_type": "code",
   "execution_count": 60,
   "metadata": {},
   "outputs": [
    {
     "data": {
      "text/plain": [
       "<matplotlib.legend.Legend at 0x109c04a2b00>"
      ]
     },
     "execution_count": 60,
     "metadata": {},
     "output_type": "execute_result"
    },
    {
     "data": {
      "image/png": "[encoded data removed]",
      "text/plain": [
       "<Figure size 432x288 with 1 Axes>"
      ]
     },
     "metadata": {},
     "output_type": "display_data"
    }
   ],
   "source": [
    "urbandriver = cityname[\"driver_count\"][cityname[\"type\"] == \"Urban\"].sum()\n",
    "subdriver = cityname[\"driver_count\"][cityname[\"type\"] == \"Suburban\"].sum()\n",
    "ruraldriver = cityname[\"driver_count\"][cityname[\"type\"] == \"Rural\"].sum()\n",
    "\n",
    "wedges = [urbandriver,subdriver,ruraldriver]\n",
    "colors = [\"lightskyblue\",\"lightcoral\",\"gold\"]\n",
    "labels = [\"Urban\",\"Suburban\",\"Rural\"]\n",
    "explode = [0.05,0.1,0.2]\n",
    "\n",
    "plt.pie(wedges,\n",
    "        labels = labels,\n",
    "        colors = colors,\n",
    "        autopct = '%1.1f%%',\n",
    "       explode = explode,\n",
    "       shadow = True,\n",
    "       startangle = 339)\n",
    "plt.title(\"Drivers by City Type\")\n",
    "plt.legend(loc=\"best\")"
   ]
  },
  {
   "cell_type": "code",
   "execution_count": null,
   "metadata": {},
   "outputs": [],
   "source": []
  }
 ],
 "metadata": {
  "anaconda-cloud": {},
  "kernelspec": {
   "display_name": "Python 3",
   "language": "python",
   "name": "python3"
  },
  "language_info": {
   "codemirror_mode": {
    "name": "ipython",
    "version": 3
   },
   "file_extension": ".py",
   "mimetype": "text/x-python",
   "name": "python",
   "nbconvert_exporter": "python",
   "pygments_lexer": "ipython3",
   "version": "3.7.1"
  }
 },
 "nbformat": 4,
 "nbformat_minor": 2
}
